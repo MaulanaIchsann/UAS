{
  "metadata": {
    "kernelspec": {
      "name": "python",
      "display_name": "Python (Pyodide)",
      "language": "python"
    },
    "language_info": {
      "codemirror_mode": {
        "name": "python",
        "version": 3
      },
      "file_extension": ".py",
      "mimetype": "text/x-python",
      "name": "python",
      "nbconvert_exporter": "python",
      "pygments_lexer": "ipython3",
      "version": "3.8"
    }
  },
  "nbformat_minor": 4,
  "nbformat": 4,
  "cells": [
    {
      "cell_type": "code",
      "source": "import numpy as np\n\n# Fungsi keanggotaan untuk Pendapatan (Income)\ndef income_low(x):\n    return max(0, min(1, (6000 - x) / 3000))\n\ndef income_medium(x):\n    return max(0, min((x - 3000) / 3000, 1, (15000 - x) / 5000))\n\ndef income_high(x):\n    return max(0, min((x - 10000) / 5000, 1))\n\n# Fungsi keanggotaan untuk Hutang (Debt)\ndef debt_low(x):\n    return max(0, min(1, (4000 - x) / 2000))\n\ndef debt_medium(x):\n    return max(0, min((x - 2000) / 2000, 1, (8000 - x) / 2000))\n\ndef debt_high(x):\n    return max(0, min((x - 6000) / 2000, 1))\n\n# Fungsi keanggotaan untuk Riwayat Kredit (Credit History)\ndef credit_poor(x):\n    return max(0, min(1, (4 - x) / 2))\n\ndef credit_average(x):\n    return max(0, min((x - 2) / 2, 1, (8 - x) / 2))\n\ndef credit_good(x):\n    return max(0, min((x - 6) / 2, 1))\n\n# Fungsi keanggotaan untuk Kelayakan Kredit (Credit Worthiness)\ndef worthiness_low(x):\n    return max(0, min(1, (50 - x) / 25))\n\ndef worthiness_medium(x):\n    return max(0, min((x - 25) / 25, 1, (75 - x) / 25))\n\ndef worthiness_high(x):\n    return max(0, min((x - 50) / 25, 1))\n\n# Inferensi fuzzy\ndef fuzzy_inference(income, debt, credit):\n    # Derajat keanggotaan input\n    income_lv = {\"low\": income_low(income), \"medium\": income_medium(income), \"high\": income_high(income)}\n    debt_lv = {\"low\": debt_low(debt), \"medium\": debt_medium(debt), \"high\": debt_high(debt)}\n    credit_lv = {\"poor\": credit_poor(credit), \"average\": credit_average(credit), \"good\": credit_good(credit)}\n    \n    # Rule base\n    rules = [\n        (min(income_lv['low'], debt_lv['high'], credit_lv['poor']), \"low\"),\n        (min(income_lv['medium'], debt_lv['medium'], credit_lv['average']), \"medium\"),\n        (min(income_lv['high'], debt_lv['low'], credit_lv['good']), \"high\"),\n        (min(income_lv['medium'], debt_lv['low'], credit_lv['good']), \"high\"),\n        (min(income_lv['low'], debt_lv['medium'], credit_lv['average']), \"low\"),\n        (min(income_lv['medium'], debt_lv['high'], credit_lv['poor']), \"low\"),\n        (min(income_lv['high'], debt_lv['medium'], credit_lv['good']), \"high\"),\n        (min(income_lv['high'], debt_lv['medium'], credit_lv['average']), \"medium\")\n    ]\n    \n    # Output fuzzy sets\n    worthiness_lv = {\"low\": 0, \"medium\": 0, \"high\": 0}\n    for rule_strength, outcome in rules:\n        worthiness_lv[outcome] = max(worthiness_lv[outcome], rule_strength)\n    \n    return worthiness_lv\n\n# Defuzzifikasi (menggunakan metode Centroid)\ndef defuzzify(worthiness_lv):\n    numerator = 0\n    denominator = 0\n    for x in range(0, 101):\n        mu_low = worthiness_low(x) * worthiness_lv['low']\n        mu_medium = worthiness_medium(x) * worthiness_lv['medium']\n        mu_high = worthiness_high(x) * worthiness_lv['high']\n        \n        mu = max(mu_low, mu_medium, mu_high)\n        numerator += x * mu\n        denominator += mu\n    \n    return numerator / denominator if denominator != 0 else 0\n\n# Contoh Input\nincome_input = 7000\ndebt_input = 3000\ncredit_input = 7\n\n# Inferensi dan defuzzifikasi\nworthiness_fuzzy = fuzzy_inference(income_input, debt_input, credit_input)\nworthiness_crisp = defuzzify(worthiness_fuzzy)\n\nprint(f\"Credit Worthiness (Fuzzy): {worthiness_fuzzy}\")\nprint(f\"Credit Worthiness (Crisp): {worthiness_crisp:.2f}\")\n",
      "metadata": {
        "trusted": true
      },
      "outputs": [
        {
          "name": "stdout",
          "text": "Credit Worthiness (Fuzzy): {'low': 0, 'medium': 0.5, 'high': 0.5}\nCredit Worthiness (Crisp): 69.26\n",
          "output_type": "stream"
        }
      ],
      "execution_count": 4
    },
    {
      "cell_type": "code",
      "source": "",
      "metadata": {
        "trusted": true
      },
      "outputs": [],
      "execution_count": null
    }
  ]
}